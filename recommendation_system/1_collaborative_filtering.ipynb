{
 "cells": [
  {
   "cell_type": "markdown",
   "id": "03fc489c",
   "metadata": {
    "vscode": {
     "languageId": "plaintext"
    }
   },
   "source": [
    "Download MovieLens Dataset\n"
   ]
  },
  {
   "cell_type": "code",
   "execution_count": null,
   "id": "97181103",
   "metadata": {},
   "outputs": [],
   "source": [
    "# !wget http://files.grouplens.org/datasets/movielens/ml-latest-small.zip\n",
    "# !unzip ml-latest-small.zip -d ./data\n",
    "# !rm -rf ml-latest-small.zip"
   ]
  },
  {
   "cell_type": "code",
   "execution_count": 13,
   "id": "e1f97367",
   "metadata": {},
   "outputs": [],
   "source": [
    "%load_ext autoreload\n",
    "%autoreload 2\n"
   ]
  },
  {
   "cell_type": "code",
   "execution_count": null,
   "id": "0e2e5133",
   "metadata": {},
   "outputs": [],
   "source": [
    "import pandas as pd\n",
    "import torch\n"
   ]
  },
  {
   "cell_type": "markdown",
   "id": "25a7776e",
   "metadata": {},
   "source": [
    "### Load Data"
   ]
  },
  {
   "cell_type": "code",
   "execution_count": 6,
   "id": "e7b90bad",
   "metadata": {},
   "outputs": [],
   "source": [
    "df_links = pd.read_csv(\"./data/ml-latest-small/links.csv\")\n",
    "df_movies = pd.read_csv(\"./data/ml-latest-small/movies.csv\")\n",
    "df_ratings = pd.read_csv(\"./data/ml-latest-small/ratings.csv\")\n",
    "df_tags = pd.read_csv(\"./data/ml-latest-small/tags.csv\")\n"
   ]
  },
  {
   "cell_type": "code",
   "execution_count": 64,
   "id": "32c42dfe",
   "metadata": {},
   "outputs": [
    {
     "data": {
      "text/html": [
       "<div>\n",
       "<style scoped>\n",
       "    .dataframe tbody tr th:only-of-type {\n",
       "        vertical-align: middle;\n",
       "    }\n",
       "\n",
       "    .dataframe tbody tr th {\n",
       "        vertical-align: top;\n",
       "    }\n",
       "\n",
       "    .dataframe thead th {\n",
       "        text-align: right;\n",
       "    }\n",
       "</style>\n",
       "<table border=\"1\" class=\"dataframe\">\n",
       "  <thead>\n",
       "    <tr style=\"text-align: right;\">\n",
       "      <th></th>\n",
       "      <th>userId</th>\n",
       "      <th>movieId</th>\n",
       "      <th>tag</th>\n",
       "      <th>timestamp</th>\n",
       "    </tr>\n",
       "  </thead>\n",
       "  <tbody>\n",
       "    <tr>\n",
       "      <th>0</th>\n",
       "      <td>2</td>\n",
       "      <td>60756</td>\n",
       "      <td>funny</td>\n",
       "      <td>1445714994</td>\n",
       "    </tr>\n",
       "    <tr>\n",
       "      <th>1</th>\n",
       "      <td>2</td>\n",
       "      <td>60756</td>\n",
       "      <td>Highly quotable</td>\n",
       "      <td>1445714996</td>\n",
       "    </tr>\n",
       "    <tr>\n",
       "      <th>2</th>\n",
       "      <td>2</td>\n",
       "      <td>60756</td>\n",
       "      <td>will ferrell</td>\n",
       "      <td>1445714992</td>\n",
       "    </tr>\n",
       "    <tr>\n",
       "      <th>3</th>\n",
       "      <td>2</td>\n",
       "      <td>89774</td>\n",
       "      <td>Boxing story</td>\n",
       "      <td>1445715207</td>\n",
       "    </tr>\n",
       "    <tr>\n",
       "      <th>4</th>\n",
       "      <td>2</td>\n",
       "      <td>89774</td>\n",
       "      <td>MMA</td>\n",
       "      <td>1445715200</td>\n",
       "    </tr>\n",
       "  </tbody>\n",
       "</table>\n",
       "</div>"
      ],
      "text/plain": [
       "   userId  movieId              tag   timestamp\n",
       "0       2    60756            funny  1445714994\n",
       "1       2    60756  Highly quotable  1445714996\n",
       "2       2    60756     will ferrell  1445714992\n",
       "3       2    89774     Boxing story  1445715207\n",
       "4       2    89774              MMA  1445715200"
      ]
     },
     "execution_count": 64,
     "metadata": {},
     "output_type": "execute_result"
    }
   ],
   "source": [
    "df_tags.head()"
   ]
  },
  {
   "cell_type": "code",
   "execution_count": 7,
   "id": "fbae4b2a",
   "metadata": {},
   "outputs": [
    {
     "data": {
      "text/html": [
       "<div>\n",
       "<style scoped>\n",
       "    .dataframe tbody tr th:only-of-type {\n",
       "        vertical-align: middle;\n",
       "    }\n",
       "\n",
       "    .dataframe tbody tr th {\n",
       "        vertical-align: top;\n",
       "    }\n",
       "\n",
       "    .dataframe thead th {\n",
       "        text-align: right;\n",
       "    }\n",
       "</style>\n",
       "<table border=\"1\" class=\"dataframe\">\n",
       "  <thead>\n",
       "    <tr style=\"text-align: right;\">\n",
       "      <th></th>\n",
       "      <th>movieId</th>\n",
       "      <th>imdbId</th>\n",
       "      <th>tmdbId</th>\n",
       "    </tr>\n",
       "  </thead>\n",
       "  <tbody>\n",
       "    <tr>\n",
       "      <th>0</th>\n",
       "      <td>1</td>\n",
       "      <td>114709</td>\n",
       "      <td>862.0</td>\n",
       "    </tr>\n",
       "    <tr>\n",
       "      <th>1</th>\n",
       "      <td>2</td>\n",
       "      <td>113497</td>\n",
       "      <td>8844.0</td>\n",
       "    </tr>\n",
       "    <tr>\n",
       "      <th>2</th>\n",
       "      <td>3</td>\n",
       "      <td>113228</td>\n",
       "      <td>15602.0</td>\n",
       "    </tr>\n",
       "    <tr>\n",
       "      <th>3</th>\n",
       "      <td>4</td>\n",
       "      <td>114885</td>\n",
       "      <td>31357.0</td>\n",
       "    </tr>\n",
       "    <tr>\n",
       "      <th>4</th>\n",
       "      <td>5</td>\n",
       "      <td>113041</td>\n",
       "      <td>11862.0</td>\n",
       "    </tr>\n",
       "  </tbody>\n",
       "</table>\n",
       "</div>"
      ],
      "text/plain": [
       "   movieId  imdbId   tmdbId\n",
       "0        1  114709    862.0\n",
       "1        2  113497   8844.0\n",
       "2        3  113228  15602.0\n",
       "3        4  114885  31357.0\n",
       "4        5  113041  11862.0"
      ]
     },
     "execution_count": 7,
     "metadata": {},
     "output_type": "execute_result"
    }
   ],
   "source": [
    "df_links.head()"
   ]
  },
  {
   "cell_type": "code",
   "execution_count": 8,
   "id": "82cee087",
   "metadata": {},
   "outputs": [
    {
     "data": {
      "text/html": [
       "<div>\n",
       "<style scoped>\n",
       "    .dataframe tbody tr th:only-of-type {\n",
       "        vertical-align: middle;\n",
       "    }\n",
       "\n",
       "    .dataframe tbody tr th {\n",
       "        vertical-align: top;\n",
       "    }\n",
       "\n",
       "    .dataframe thead th {\n",
       "        text-align: right;\n",
       "    }\n",
       "</style>\n",
       "<table border=\"1\" class=\"dataframe\">\n",
       "  <thead>\n",
       "    <tr style=\"text-align: right;\">\n",
       "      <th></th>\n",
       "      <th>movieId</th>\n",
       "      <th>title</th>\n",
       "      <th>genres</th>\n",
       "    </tr>\n",
       "  </thead>\n",
       "  <tbody>\n",
       "    <tr>\n",
       "      <th>0</th>\n",
       "      <td>1</td>\n",
       "      <td>Toy Story (1995)</td>\n",
       "      <td>Adventure|Animation|Children|Comedy|Fantasy</td>\n",
       "    </tr>\n",
       "    <tr>\n",
       "      <th>1</th>\n",
       "      <td>2</td>\n",
       "      <td>Jumanji (1995)</td>\n",
       "      <td>Adventure|Children|Fantasy</td>\n",
       "    </tr>\n",
       "    <tr>\n",
       "      <th>2</th>\n",
       "      <td>3</td>\n",
       "      <td>Grumpier Old Men (1995)</td>\n",
       "      <td>Comedy|Romance</td>\n",
       "    </tr>\n",
       "    <tr>\n",
       "      <th>3</th>\n",
       "      <td>4</td>\n",
       "      <td>Waiting to Exhale (1995)</td>\n",
       "      <td>Comedy|Drama|Romance</td>\n",
       "    </tr>\n",
       "    <tr>\n",
       "      <th>4</th>\n",
       "      <td>5</td>\n",
       "      <td>Father of the Bride Part II (1995)</td>\n",
       "      <td>Comedy</td>\n",
       "    </tr>\n",
       "  </tbody>\n",
       "</table>\n",
       "</div>"
      ],
      "text/plain": [
       "   movieId                               title  \\\n",
       "0        1                    Toy Story (1995)   \n",
       "1        2                      Jumanji (1995)   \n",
       "2        3             Grumpier Old Men (1995)   \n",
       "3        4            Waiting to Exhale (1995)   \n",
       "4        5  Father of the Bride Part II (1995)   \n",
       "\n",
       "                                        genres  \n",
       "0  Adventure|Animation|Children|Comedy|Fantasy  \n",
       "1                   Adventure|Children|Fantasy  \n",
       "2                               Comedy|Romance  \n",
       "3                         Comedy|Drama|Romance  \n",
       "4                                       Comedy  "
      ]
     },
     "execution_count": 8,
     "metadata": {},
     "output_type": "execute_result"
    }
   ],
   "source": [
    "df_movies.head()"
   ]
  },
  {
   "cell_type": "code",
   "execution_count": 65,
   "id": "a4f1a3b4",
   "metadata": {},
   "outputs": [
    {
     "data": {
      "text/plain": [
       "9742"
      ]
     },
     "execution_count": 65,
     "metadata": {},
     "output_type": "execute_result"
    }
   ],
   "source": [
    "# Number of unique movies with data\n",
    "\n",
    "num_movies = df_movies.movieId.nunique()\n",
    "num_movies\n",
    "# Number of unique movies with ratings"
   ]
  },
  {
   "cell_type": "code",
   "execution_count": 9,
   "id": "38d2be9b",
   "metadata": {},
   "outputs": [
    {
     "data": {
      "text/html": [
       "<div>\n",
       "<style scoped>\n",
       "    .dataframe tbody tr th:only-of-type {\n",
       "        vertical-align: middle;\n",
       "    }\n",
       "\n",
       "    .dataframe tbody tr th {\n",
       "        vertical-align: top;\n",
       "    }\n",
       "\n",
       "    .dataframe thead th {\n",
       "        text-align: right;\n",
       "    }\n",
       "</style>\n",
       "<table border=\"1\" class=\"dataframe\">\n",
       "  <thead>\n",
       "    <tr style=\"text-align: right;\">\n",
       "      <th></th>\n",
       "      <th>userId</th>\n",
       "      <th>movieId</th>\n",
       "      <th>rating</th>\n",
       "      <th>timestamp</th>\n",
       "    </tr>\n",
       "  </thead>\n",
       "  <tbody>\n",
       "    <tr>\n",
       "      <th>0</th>\n",
       "      <td>1</td>\n",
       "      <td>1</td>\n",
       "      <td>4.0</td>\n",
       "      <td>964982703</td>\n",
       "    </tr>\n",
       "    <tr>\n",
       "      <th>1</th>\n",
       "      <td>1</td>\n",
       "      <td>3</td>\n",
       "      <td>4.0</td>\n",
       "      <td>964981247</td>\n",
       "    </tr>\n",
       "    <tr>\n",
       "      <th>2</th>\n",
       "      <td>1</td>\n",
       "      <td>6</td>\n",
       "      <td>4.0</td>\n",
       "      <td>964982224</td>\n",
       "    </tr>\n",
       "    <tr>\n",
       "      <th>3</th>\n",
       "      <td>1</td>\n",
       "      <td>47</td>\n",
       "      <td>5.0</td>\n",
       "      <td>964983815</td>\n",
       "    </tr>\n",
       "    <tr>\n",
       "      <th>4</th>\n",
       "      <td>1</td>\n",
       "      <td>50</td>\n",
       "      <td>5.0</td>\n",
       "      <td>964982931</td>\n",
       "    </tr>\n",
       "  </tbody>\n",
       "</table>\n",
       "</div>"
      ],
      "text/plain": [
       "   userId  movieId  rating  timestamp\n",
       "0       1        1     4.0  964982703\n",
       "1       1        3     4.0  964981247\n",
       "2       1        6     4.0  964982224\n",
       "3       1       47     5.0  964983815\n",
       "4       1       50     5.0  964982931"
      ]
     },
     "execution_count": 9,
     "metadata": {},
     "output_type": "execute_result"
    }
   ],
   "source": [
    "df_ratings.head()"
   ]
  },
  {
   "cell_type": "code",
   "execution_count": 67,
   "id": "5bf5c26a",
   "metadata": {},
   "outputs": [
    {
     "name": "stdout",
     "output_type": "stream",
     "text": [
      "Number of movies: 9742\n",
      "Number of movies with ratings: 9724\n",
      "Number of users with ratings: 610\n",
      "Number of movies without ratings: 18\n"
     ]
    }
   ],
   "source": [
    "print(f\"Number of movies: {num_movies}\")\n",
    "\n",
    "movies_with_ratings = df_ratings.movieId.nunique()\n",
    "print(f\"Number of movies with ratings: {movies_with_ratings}\") \n",
    "\n",
    "# Number of users with ratings\n",
    "num_users = df_ratings.userId.nunique()\n",
    "print(f\"Number of users with ratings: {num_users}\")\n",
    "\n",
    "# Number of unique movies without ratings\n",
    "print(f\"Number of movies without ratings: {num_movies - movies_with_ratings}\")"
   ]
  },
  {
   "cell_type": "code",
   "execution_count": 71,
   "id": "14c45f0c",
   "metadata": {},
   "outputs": [
    {
     "data": {
      "text/html": [
       "<div>\n",
       "<style scoped>\n",
       "    .dataframe tbody tr th:only-of-type {\n",
       "        vertical-align: middle;\n",
       "    }\n",
       "\n",
       "    .dataframe tbody tr th {\n",
       "        vertical-align: top;\n",
       "    }\n",
       "\n",
       "    .dataframe thead th {\n",
       "        text-align: right;\n",
       "    }\n",
       "</style>\n",
       "<table border=\"1\" class=\"dataframe\">\n",
       "  <thead>\n",
       "    <tr style=\"text-align: right;\">\n",
       "      <th></th>\n",
       "      <th>userId</th>\n",
       "      <th>movieId</th>\n",
       "      <th>rating</th>\n",
       "      <th>timestamp</th>\n",
       "    </tr>\n",
       "  </thead>\n",
       "  <tbody>\n",
       "    <tr>\n",
       "      <th>count</th>\n",
       "      <td>100836.000000</td>\n",
       "      <td>100836.000000</td>\n",
       "      <td>100836.000000</td>\n",
       "      <td>1.008360e+05</td>\n",
       "    </tr>\n",
       "    <tr>\n",
       "      <th>mean</th>\n",
       "      <td>326.127564</td>\n",
       "      <td>19435.295718</td>\n",
       "      <td>3.501557</td>\n",
       "      <td>1.205946e+09</td>\n",
       "    </tr>\n",
       "    <tr>\n",
       "      <th>std</th>\n",
       "      <td>182.618491</td>\n",
       "      <td>35530.987199</td>\n",
       "      <td>1.042529</td>\n",
       "      <td>2.162610e+08</td>\n",
       "    </tr>\n",
       "    <tr>\n",
       "      <th>min</th>\n",
       "      <td>1.000000</td>\n",
       "      <td>1.000000</td>\n",
       "      <td>0.500000</td>\n",
       "      <td>8.281246e+08</td>\n",
       "    </tr>\n",
       "    <tr>\n",
       "      <th>25%</th>\n",
       "      <td>177.000000</td>\n",
       "      <td>1199.000000</td>\n",
       "      <td>3.000000</td>\n",
       "      <td>1.019124e+09</td>\n",
       "    </tr>\n",
       "    <tr>\n",
       "      <th>50%</th>\n",
       "      <td>325.000000</td>\n",
       "      <td>2991.000000</td>\n",
       "      <td>3.500000</td>\n",
       "      <td>1.186087e+09</td>\n",
       "    </tr>\n",
       "    <tr>\n",
       "      <th>75%</th>\n",
       "      <td>477.000000</td>\n",
       "      <td>8122.000000</td>\n",
       "      <td>4.000000</td>\n",
       "      <td>1.435994e+09</td>\n",
       "    </tr>\n",
       "    <tr>\n",
       "      <th>max</th>\n",
       "      <td>610.000000</td>\n",
       "      <td>193609.000000</td>\n",
       "      <td>5.000000</td>\n",
       "      <td>1.537799e+09</td>\n",
       "    </tr>\n",
       "  </tbody>\n",
       "</table>\n",
       "</div>"
      ],
      "text/plain": [
       "              userId        movieId         rating     timestamp\n",
       "count  100836.000000  100836.000000  100836.000000  1.008360e+05\n",
       "mean      326.127564   19435.295718       3.501557  1.205946e+09\n",
       "std       182.618491   35530.987199       1.042529  2.162610e+08\n",
       "min         1.000000       1.000000       0.500000  8.281246e+08\n",
       "25%       177.000000    1199.000000       3.000000  1.019124e+09\n",
       "50%       325.000000    2991.000000       3.500000  1.186087e+09\n",
       "75%       477.000000    8122.000000       4.000000  1.435994e+09\n",
       "max       610.000000  193609.000000       5.000000  1.537799e+09"
      ]
     },
     "execution_count": 71,
     "metadata": {},
     "output_type": "execute_result"
    }
   ],
   "source": [
    "df_ratings.describe()"
   ]
  },
  {
   "cell_type": "code",
   "execution_count": null,
   "id": "29ef0572",
   "metadata": {},
   "outputs": [],
   "source": [
    "* We can observe that the user_id and movie_id both are 1-indexed.\n",
    "* Rating Range is 0.5 to 5.0"
   ]
  },
  {
   "cell_type": "markdown",
   "id": "e9f51546",
   "metadata": {},
   "source": [
    "### Prepare Training/Validation Dataset"
   ]
  },
  {
   "cell_type": "code",
   "execution_count": null,
   "id": "1c258a47",
   "metadata": {},
   "outputs": [],
   "source": [
    "from sklearn.model_selection import train_test_split\n",
    "\n",
    "\n",
    "# mapping of user_id to index and movie_id to index\n",
    "user_id_to_index = {user_id: i for i, user_id in enumerate(sorted(df_ratings.userId.unique()))}\n",
    "movie_id_to_index = {movie_id: i for i, movie_id in enumerate(sorted(df_ratings.movieId.unique()))}\n",
    "\n",
    "# create a new column with the index of the user_id and movie_id\n",
    "df_ratings['user_id_index'] = df_ratings['userId'].map(user_id_to_index)\n",
    "df_ratings['movie_id_index'] = df_ratings['movieId'].map(movie_id_to_index)\n",
    "\n",
    "\n",
    "# Split the data into training and testing sets\n",
    "df_ratings_train, df_ratings_test = train_test_split(df_ratings, test_size=0.2, random_state=42)"
   ]
  },
  {
   "cell_type": "code",
   "execution_count": 85,
   "id": "9d106cdb",
   "metadata": {},
   "outputs": [
    {
     "data": {
      "text/html": [
       "<div>\n",
       "<style scoped>\n",
       "    .dataframe tbody tr th:only-of-type {\n",
       "        vertical-align: middle;\n",
       "    }\n",
       "\n",
       "    .dataframe tbody tr th {\n",
       "        vertical-align: top;\n",
       "    }\n",
       "\n",
       "    .dataframe thead th {\n",
       "        text-align: right;\n",
       "    }\n",
       "</style>\n",
       "<table border=\"1\" class=\"dataframe\">\n",
       "  <thead>\n",
       "    <tr style=\"text-align: right;\">\n",
       "      <th></th>\n",
       "      <th>userId</th>\n",
       "      <th>movieId</th>\n",
       "      <th>rating</th>\n",
       "      <th>timestamp</th>\n",
       "      <th>user_id_index</th>\n",
       "      <th>movie_id_index</th>\n",
       "    </tr>\n",
       "  </thead>\n",
       "  <tbody>\n",
       "    <tr>\n",
       "      <th>80568</th>\n",
       "      <td>509</td>\n",
       "      <td>7347</td>\n",
       "      <td>3.0</td>\n",
       "      <td>1435994597</td>\n",
       "      <td>508</td>\n",
       "      <td>4893</td>\n",
       "    </tr>\n",
       "    <tr>\n",
       "      <th>50582</th>\n",
       "      <td>326</td>\n",
       "      <td>71462</td>\n",
       "      <td>4.0</td>\n",
       "      <td>1322252335</td>\n",
       "      <td>325</td>\n",
       "      <td>7127</td>\n",
       "    </tr>\n",
       "    <tr>\n",
       "      <th>8344</th>\n",
       "      <td>57</td>\n",
       "      <td>2115</td>\n",
       "      <td>3.0</td>\n",
       "      <td>965798155</td>\n",
       "      <td>56</td>\n",
       "      <td>1575</td>\n",
       "    </tr>\n",
       "    <tr>\n",
       "      <th>99603</th>\n",
       "      <td>610</td>\n",
       "      <td>1127</td>\n",
       "      <td>4.0</td>\n",
       "      <td>1479544102</td>\n",
       "      <td>609</td>\n",
       "      <td>855</td>\n",
       "    </tr>\n",
       "    <tr>\n",
       "      <th>71701</th>\n",
       "      <td>462</td>\n",
       "      <td>2409</td>\n",
       "      <td>2.0</td>\n",
       "      <td>1174438249</td>\n",
       "      <td>461</td>\n",
       "      <td>1808</td>\n",
       "    </tr>\n",
       "  </tbody>\n",
       "</table>\n",
       "</div>"
      ],
      "text/plain": [
       "       userId  movieId  rating   timestamp  user_id_index  movie_id_index\n",
       "80568     509     7347     3.0  1435994597            508            4893\n",
       "50582     326    71462     4.0  1322252335            325            7127\n",
       "8344       57     2115     3.0   965798155             56            1575\n",
       "99603     610     1127     4.0  1479544102            609             855\n",
       "71701     462     2409     2.0  1174438249            461            1808"
      ]
     },
     "execution_count": 85,
     "metadata": {},
     "output_type": "execute_result"
    }
   ],
   "source": [
    "df_ratings_train.head()"
   ]
  },
  {
   "cell_type": "code",
   "execution_count": 144,
   "id": "c86599b1",
   "metadata": {},
   "outputs": [],
   "source": [
    "from torch.utils.data import Dataset\n",
    "\n",
    "class MovieDataset(Dataset):\n",
    "    def __init__(self, rating_file):\n",
    "        self.df_ratings = pd.read_csv(rating_file)\n",
    "        \n",
    "        # Create mappings and store as instance attributes\n",
    "        self.user_id_to_index = {user_id: i for i, user_id in enumerate(sorted(self.df_ratings.userId.unique()))}\n",
    "        self.movie_id_to_index = {movie_id: i for i, movie_id in enumerate(sorted(self.df_ratings.movieId.unique()))}\n",
    "        \n",
    "        # Apply mappings\n",
    "        self.df_ratings['user_id_index'] = self.df_ratings['userId'].map(self.user_id_to_index)\n",
    "        self.df_ratings['movie_id_index'] = self.df_ratings['movieId'].map(self.movie_id_to_index)\n",
    "        \n",
    "        # Store number of unique users and movies\n",
    "        self.num_users = len(self.user_id_to_index)\n",
    "        self.num_movies = len(self.movie_id_to_index)\n",
    "\n",
    "    def __len__(self):\n",
    "        return len(self.df_ratings)\n",
    "    \n",
    "    def __getitem__(self, idx):\n",
    "        \"\"\"\n",
    "        Returns a single training example as tensors\n",
    "        \"\"\"\n",
    "        row = self.df_ratings.iloc[idx]\n",
    "        \n",
    "        user_id = torch.tensor(row['user_id_index'], dtype=torch.long)\n",
    "        movie_id = torch.tensor(row['movie_id_index'], dtype=torch.long)\n",
    "        rating = torch.tensor(row['rating'], dtype=torch.float)\n",
    "        \n",
    "        return user_id, movie_id, rating"
   ]
  },
  {
   "cell_type": "code",
   "execution_count": 145,
   "id": "45e91721",
   "metadata": {},
   "outputs": [],
   "source": [
    "from torch.utils.data import DataLoader, random_split\n",
    "\n",
    "dataset = MovieDataset('./data/ml-latest-small/ratings.csv')\n",
    "# Split dataset\n",
    "train_size = int(0.8 * len(dataset))\n",
    "test_size = len(dataset) - train_size\n",
    "train_dataset, test_dataset = random_split(dataset, [train_size, test_size])\n",
    "\n",
    "train_loader = DataLoader(train_dataset, batch_size=2, shuffle=True)\n",
    "test_loader = DataLoader(test_dataset, batch_size=2, shuffle=False)"
   ]
  },
  {
   "cell_type": "code",
   "execution_count": 146,
   "id": "5f58231e",
   "metadata": {},
   "outputs": [
    {
     "name": "stdout",
     "output_type": "stream",
     "text": [
      "Training Data (80668, 6)\n",
      "Testing Data (20168, 6)\n"
     ]
    }
   ],
   "source": [
    "print(\"Training Data\", df_ratings_train.shape)\n",
    "print(\"Testing Data\", df_ratings_test.shape)"
   ]
  },
  {
   "cell_type": "markdown",
   "id": "1f9c059f",
   "metadata": {},
   "source": [
    "### Modelling\n",
    "* We will build a collaborative filtering model to recommend movies to users.\n",
    "\n",
    "\n",
    "1. Need User embedding matrix, init randomly => U\n",
    "2. similarly Movie embedding matrix, init randomly => M\n",
    "3. Forward Pass:\n",
    "    - To compute A(i,j) = MatMul(Ui, Mj)\n",
    "    - Perform backward pass and update the matrix U and M"
   ]
  },
  {
   "cell_type": "code",
   "execution_count": 160,
   "id": "fd223273",
   "metadata": {},
   "outputs": [
    {
     "name": "stdout",
     "output_type": "stream",
     "text": [
      "tensor([  60, -150])\n",
      "tensor([ 162, -248])\n"
     ]
    }
   ],
   "source": [
    "import torch\n",
    "\n",
    "a = torch.tensor([[1, 2, 3], [4, 5, 6]])\n",
    "b = torch.tensor([[10, 10, 10], [-10, -10, -10]])\n",
    "\n",
    "a_bias = torch.tensor([100, -100])\n",
    "b_bias = torch.tensor([2, 2])\n",
    "\n",
    "w1w2 = einsum(a, b, \"batch d, batch d -> batch\")\n",
    "print(w1w2)\n",
    "result = w1w2 + a_bias + b_bias\n",
    "print(result)"
   ]
  },
  {
   "cell_type": "code",
   "execution_count": 249,
   "id": "da102ab9",
   "metadata": {},
   "outputs": [],
   "source": [
    "from torch import nn\n",
    "from einops import einsum, rearrange, reduce\n",
    "\n",
    "class CollaborativeFiltering(nn.Module):\n",
    "    def __init__(self, num_users, num_movies, embedding_dim):\n",
    "        super().__init__()\n",
    "        self.user_embedding = nn.Embedding(num_users, embedding_dim, max_norm=1.0)\n",
    "        self.movie_embedding = nn.Embedding(num_movies, embedding_dim, max_norm=1.0)\n",
    "        self.user_bias = nn.Embedding(num_users, 1)\n",
    "        self.movie_bias = nn.Embedding(num_movies, 1)\n",
    "\n",
    "    def forward(self, user_ids, movie_ids):\n",
    "        user_embeddings = self.user_embedding(user_ids)\n",
    "        movie_embeddings = self.movie_embedding(movie_ids)\n",
    "        user_bias = self.user_bias(user_ids)\n",
    "        movie_bias = self.movie_bias(movie_ids)\n",
    "        w1w2 =  einsum(user_embeddings, movie_embeddings, \"batch embedding_dim, batch embedding_dim -> batch\")\n",
    "        result = w1w2 + rearrange(user_bias, \"batch 1-> batch\") + rearrange(movie_bias, \"batch 1-> batch\")\n",
    "        # pass the model through the sigmoid function and scale the result to the range 0.0 to 5.5\n",
    "        result = torch.sigmoid(result) * 5.5\n",
    "        return result\n"
   ]
  },
  {
   "cell_type": "code",
   "execution_count": null,
   "id": "980792b1",
   "metadata": {},
   "outputs": [
    {
     "name": "stdout",
     "output_type": "stream",
     "text": [
      "CollaborativeFiltering(\n",
      "  (user_embedding): Embedding(610, 10, max_norm=1.0)\n",
      "  (movie_embedding): Embedding(9742, 10, max_norm=1.0)\n",
      "  (user_bias): Embedding(610, 1)\n",
      "  (movie_bias): Embedding(9742, 1)\n",
      ")\n"
     ]
    }
   ],
   "source": [
    "# Lets keep the number of latent factors to 10\n",
    "# It's a hyperparameter that we can tune\n",
    "embedding_dim = 10\n",
    "model = CollaborativeFiltering(num_users, num_movies, embedding_dim=embedding_dim)\n",
    "print(model)\n",
    "\n",
    "# define loss function\n",
    "loss_fn = nn.MSELoss()\n",
    "# define optimizer\n",
    "optimizer = torch.optim.Adam(model.parameters(), lr=0.0001)"
   ]
  },
  {
   "cell_type": "markdown",
   "id": "fa50f68e",
   "metadata": {},
   "source": [
    "### Manual Validation"
   ]
  },
  {
   "cell_type": "code",
   "execution_count": 251,
   "id": "4118872d",
   "metadata": {},
   "outputs": [
    {
     "name": "stdout",
     "output_type": "stream",
     "text": [
      "Number of parameters in the model 113872\n"
     ]
    }
   ],
   "source": [
    "pytorch_total_params = sum(p.numel() for p in model.parameters())\n",
    "print(\"Number of parameters in the model\", pytorch_total_params)"
   ]
  },
  {
   "cell_type": "code",
   "execution_count": 244,
   "id": "744ac7ae",
   "metadata": {},
   "outputs": [
    {
     "data": {
      "text/plain": [
       "113872"
      ]
     },
     "execution_count": 244,
     "metadata": {},
     "output_type": "execute_result"
    }
   ],
   "source": [
    "num_movies*10 + num_users* 10 + num_movies + num_users"
   ]
  },
  {
   "cell_type": "code",
   "execution_count": 252,
   "id": "011df916",
   "metadata": {},
   "outputs": [
    {
     "data": {
      "text/plain": [
       "[tensor([437, 461]), tensor([4426, 6983]), tensor([5., 4.])]"
      ]
     },
     "execution_count": 252,
     "metadata": {},
     "output_type": "execute_result"
    }
   ],
   "source": [
    "batch = next(iter(train_loader))\n",
    "batch"
   ]
  },
  {
   "cell_type": "code",
   "execution_count": 253,
   "id": "b56a6a37",
   "metadata": {},
   "outputs": [
    {
     "name": "stdout",
     "output_type": "stream",
     "text": [
      "torch.Size([2, 10])\n",
      "torch.Size([2, 10])\n",
      "torch.Size([2, 1])\n",
      "torch.Size([2, 1])\n"
     ]
    },
    {
     "data": {
      "text/plain": [
       "tensor([2.7433, 0.1405], grad_fn=<MulBackward0>)"
      ]
     },
     "execution_count": 253,
     "metadata": {},
     "output_type": "execute_result"
    }
   ],
   "source": [
    "user_embeddings =  model.user_embedding(batch[0])\n",
    "movie_embeddings = model.movie_embedding(batch[1])\n",
    "user_bias =        model.user_bias(batch[0])\n",
    "movie_bias =       model.movie_bias(batch[1])\n",
    "\n",
    "print(user_embeddings.shape)\n",
    "print(movie_embeddings.shape)\n",
    "\n",
    "print(user_bias.shape)\n",
    "print(movie_bias.shape)\n",
    "\n",
    "w1w2 =  einsum(user_embeddings, movie_embeddings, \"batch embedding_dim, batch embedding_dim -> batch\")\n",
    "result = w1w2 + rearrange(user_bias, \"batch 1-> batch\") + rearrange(movie_bias, \"batch 1-> batch\")\n",
    "torch.sigmoid(result) * 5.5"
   ]
  },
  {
   "cell_type": "code",
   "execution_count": 254,
   "id": "b440c27c",
   "metadata": {},
   "outputs": [
    {
     "data": {
      "text/plain": [
       "tensor([2.7433, 0.1405], grad_fn=<MulBackward0>)"
      ]
     },
     "execution_count": 254,
     "metadata": {},
     "output_type": "execute_result"
    }
   ],
   "source": [
    "model(batch[0], batch[1])"
   ]
  },
  {
   "cell_type": "markdown",
   "id": "fbdf3363",
   "metadata": {},
   "source": [
    "### Training loop"
   ]
  },
  {
   "cell_type": "code",
   "execution_count": 255,
   "id": "1bc6f8e0",
   "metadata": {},
   "outputs": [
    {
     "name": "stdout",
     "output_type": "stream",
     "text": [
      "Epoch 1, Train Loss: 3.743292913937629, Test Loss: 3.644081073969149\n",
      "Epoch 2, Train Loss: 3.5640319542685135, Test Loss: 3.47058545934216\n",
      "Epoch 3, Train Loss: 3.394427059643765, Test Loss: 3.3061117074135598\n",
      "Epoch 4, Train Loss: 3.235082643324046, Test Loss: 3.149911215160099\n",
      "Epoch 5, Train Loss: 3.083901254167109, Test Loss: 3.002606145905208\n",
      "Epoch 6, Train Loss: 2.9412228887342864, Test Loss: 2.865289363348242\n",
      "Epoch 7, Train Loss: 2.8079830226181124, Test Loss: 2.7366817366653287\n",
      "Epoch 8, Train Loss: 2.683718777625694, Test Loss: 2.6164081699314155\n",
      "Epoch 9, Train Loss: 2.5672303843430155, Test Loss: 2.504119653008916\n",
      "Epoch 10, Train Loss: 2.4576354682407704, Test Loss: 2.3982223388809842\n",
      "Epoch 11, Train Loss: 2.3556340212371145, Test Loss: 2.2992840166851347\n",
      "Epoch 12, Train Loss: 2.2601554932138943, Test Loss: 2.205773183480283\n",
      "Epoch 13, Train Loss: 2.169024942641331, Test Loss: 2.1189295471962635\n",
      "Epoch 14, Train Loss: 2.0839133851116682, Test Loss: 2.0374778481153064\n",
      "Epoch 15, Train Loss: 2.0038490827918656, Test Loss: 1.9601096629264392\n",
      "Epoch 16, Train Loss: 1.9290791871924389, Test Loss: 1.8862744034433425\n",
      "Epoch 17, Train Loss: 1.8575006424057, Test Loss: 1.816692874440687\n",
      "Epoch 18, Train Loss: 1.7908934244914405, Test Loss: 1.751461170689406\n",
      "Epoch 19, Train Loss: 1.726446802997347, Test Loss: 1.6887568752399555\n",
      "Epoch 20, Train Loss: 1.6654296756584934, Test Loss: 1.6300740678733223\n"
     ]
    }
   ],
   "source": [
    "# Now based on the model, loss function and optimizer, we can train the model\n",
    "# training loop\n",
    "\n",
    "for epoch in range(20):\n",
    "    # Training loop\n",
    "    model.train()\n",
    "    train_loss = 0\n",
    "    for batch in dataloader:\n",
    "        predictions = model(batch[0], batch[1])\n",
    "        # compute loss\n",
    "        loss = loss_fn(predictions, batch[2])\n",
    "        # backward pass\n",
    "        optimizer.zero_grad()\n",
    "        loss.backward()\n",
    "        # update weights\n",
    "        optimizer.step()\n",
    "        train_loss += loss.item()\n",
    "\n",
    "    # Evaluation loop\n",
    "    model.eval()\n",
    "    test_loss = 0\n",
    "    with torch.no_grad():\n",
    "        for batch in dataloader:\n",
    "            predictions = model(batch[0], batch[1])\n",
    "            loss = loss_fn(predictions, batch[2])\n",
    "            test_loss += loss.item()\n",
    "\n",
    "    # print loss\n",
    "    print(f\"Epoch {epoch+1}, Train Loss: {train_loss/len(dataloader)}, Test Loss: {test_loss/len(dataloader)}\")\n"
   ]
  },
  {
   "cell_type": "markdown",
   "id": "87f1f66d",
   "metadata": {},
   "source": [
    "This is a healthy training loop.\n",
    "- we can observe that with each epoch, the training loss is reducing and also the test loss is also reducing.\n",
    "- No Overfitting is observed. Since the test loss is also reducing.\n",
    "- We can also observe that the training loss is reducing faster than the test loss.\n",
    "- This is a good sign that the model is learning.\n",
    "\n"
   ]
  },
  {
   "cell_type": "code",
   "execution_count": 256,
   "id": "6f22f7c8",
   "metadata": {},
   "outputs": [],
   "source": [
    "# Now lets save the model\n",
    "torch.save(model.state_dict(), \"collaborative_filtering.pth\")"
   ]
  },
  {
   "cell_type": "markdown",
   "id": "45d7338f",
   "metadata": {},
   "source": [
    "### Test"
   ]
  },
  {
   "cell_type": "code",
   "execution_count": null,
   "id": "5dd91a3f",
   "metadata": {},
   "outputs": [],
   "source": [
    "# Now we have learned User and Movie Embeddings.\n",
    "# For a given movie, fetch top-n similar movies"
   ]
  },
  {
   "cell_type": "code",
   "execution_count": 257,
   "id": "f929ec67",
   "metadata": {},
   "outputs": [],
   "source": [
    "df_movies[\"movie_id_index\"] = df_movies[\"movieId\"].map(dataset.movie_id_to_index)"
   ]
  },
  {
   "cell_type": "code",
   "execution_count": 274,
   "id": "e567cb14",
   "metadata": {},
   "outputs": [
    {
     "data": {
      "text/html": [
       "<div>\n",
       "<style scoped>\n",
       "    .dataframe tbody tr th:only-of-type {\n",
       "        vertical-align: middle;\n",
       "    }\n",
       "\n",
       "    .dataframe tbody tr th {\n",
       "        vertical-align: top;\n",
       "    }\n",
       "\n",
       "    .dataframe thead th {\n",
       "        text-align: right;\n",
       "    }\n",
       "</style>\n",
       "<table border=\"1\" class=\"dataframe\">\n",
       "  <thead>\n",
       "    <tr style=\"text-align: right;\">\n",
       "      <th></th>\n",
       "      <th>movieId</th>\n",
       "      <th>title</th>\n",
       "      <th>genres</th>\n",
       "      <th>movie_id_index</th>\n",
       "    </tr>\n",
       "  </thead>\n",
       "  <tbody>\n",
       "    <tr>\n",
       "      <th>0</th>\n",
       "      <td>1</td>\n",
       "      <td>Toy Story (1995)</td>\n",
       "      <td>Adventure|Animation|Children|Comedy|Fantasy</td>\n",
       "      <td>0.0</td>\n",
       "    </tr>\n",
       "    <tr>\n",
       "      <th>1</th>\n",
       "      <td>2</td>\n",
       "      <td>Jumanji (1995)</td>\n",
       "      <td>Adventure|Children|Fantasy</td>\n",
       "      <td>1.0</td>\n",
       "    </tr>\n",
       "    <tr>\n",
       "      <th>2</th>\n",
       "      <td>3</td>\n",
       "      <td>Grumpier Old Men (1995)</td>\n",
       "      <td>Comedy|Romance</td>\n",
       "      <td>2.0</td>\n",
       "    </tr>\n",
       "    <tr>\n",
       "      <th>3</th>\n",
       "      <td>4</td>\n",
       "      <td>Waiting to Exhale (1995)</td>\n",
       "      <td>Comedy|Drama|Romance</td>\n",
       "      <td>3.0</td>\n",
       "    </tr>\n",
       "    <tr>\n",
       "      <th>4</th>\n",
       "      <td>5</td>\n",
       "      <td>Father of the Bride Part II (1995)</td>\n",
       "      <td>Comedy</td>\n",
       "      <td>4.0</td>\n",
       "    </tr>\n",
       "  </tbody>\n",
       "</table>\n",
       "</div>"
      ],
      "text/plain": [
       "   movieId                               title  \\\n",
       "0        1                    Toy Story (1995)   \n",
       "1        2                      Jumanji (1995)   \n",
       "2        3             Grumpier Old Men (1995)   \n",
       "3        4            Waiting to Exhale (1995)   \n",
       "4        5  Father of the Bride Part II (1995)   \n",
       "\n",
       "                                        genres  movie_id_index  \n",
       "0  Adventure|Animation|Children|Comedy|Fantasy             0.0  \n",
       "1                   Adventure|Children|Fantasy             1.0  \n",
       "2                               Comedy|Romance             2.0  \n",
       "3                         Comedy|Drama|Romance             3.0  \n",
       "4                                       Comedy             4.0  "
      ]
     },
     "execution_count": 274,
     "metadata": {},
     "output_type": "execute_result"
    }
   ],
   "source": [
    "df_movies.head()"
   ]
  },
  {
   "cell_type": "code",
   "execution_count": 280,
   "id": "fa7fedbe",
   "metadata": {},
   "outputs": [
    {
     "data": {
      "text/html": [
       "<div>\n",
       "<style scoped>\n",
       "    .dataframe tbody tr th:only-of-type {\n",
       "        vertical-align: middle;\n",
       "    }\n",
       "\n",
       "    .dataframe tbody tr th {\n",
       "        vertical-align: top;\n",
       "    }\n",
       "\n",
       "    .dataframe thead th {\n",
       "        text-align: right;\n",
       "    }\n",
       "</style>\n",
       "<table border=\"1\" class=\"dataframe\">\n",
       "  <thead>\n",
       "    <tr style=\"text-align: right;\">\n",
       "      <th></th>\n",
       "      <th>movieId</th>\n",
       "      <th>title</th>\n",
       "      <th>genres</th>\n",
       "      <th>movie_id_index</th>\n",
       "    </tr>\n",
       "  </thead>\n",
       "  <tbody>\n",
       "    <tr>\n",
       "      <th>1291</th>\n",
       "      <td>1721</td>\n",
       "      <td>Titanic (1997)</td>\n",
       "      <td>Drama|Romance</td>\n",
       "      <td>1290.0</td>\n",
       "    </tr>\n",
       "    <tr>\n",
       "      <th>2542</th>\n",
       "      <td>3403</td>\n",
       "      <td>Raise the Titanic (1980)</td>\n",
       "      <td>Drama|Thriller</td>\n",
       "      <td>2539.0</td>\n",
       "    </tr>\n",
       "    <tr>\n",
       "      <th>2543</th>\n",
       "      <td>3404</td>\n",
       "      <td>Titanic (1953)</td>\n",
       "      <td>Action|Drama</td>\n",
       "      <td>2540.0</td>\n",
       "    </tr>\n",
       "    <tr>\n",
       "      <th>3553</th>\n",
       "      <td>4864</td>\n",
       "      <td>Titanica (1992)</td>\n",
       "      <td>Documentary|IMAX</td>\n",
       "      <td>3548.0</td>\n",
       "    </tr>\n",
       "  </tbody>\n",
       "</table>\n",
       "</div>"
      ],
      "text/plain": [
       "      movieId                     title            genres  movie_id_index\n",
       "1291     1721            Titanic (1997)     Drama|Romance          1290.0\n",
       "2542     3403  Raise the Titanic (1980)    Drama|Thriller          2539.0\n",
       "2543     3404            Titanic (1953)      Action|Drama          2540.0\n",
       "3553     4864           Titanica (1992)  Documentary|IMAX          3548.0"
      ]
     },
     "execution_count": 280,
     "metadata": {},
     "output_type": "execute_result"
    }
   ],
   "source": [
    "\n",
    "df_movies[df_movies.title.str.contains(\"Titanic\")]"
   ]
  },
  {
   "cell_type": "markdown",
   "id": "2d4ed3ad",
   "metadata": {},
   "source": [
    "#### Build Faiss Index "
   ]
  },
  {
   "cell_type": "code",
   "execution_count": 265,
   "id": "a122a3f8",
   "metadata": {},
   "outputs": [],
   "source": [
    "import faiss\n",
    "import numpy as np\n",
    "import torch\n",
    "import pandas as pd\n",
    "from typing import Tuple, Dict\n",
    "\n",
    "def build_cosine_similarity_index(model: torch.nn.Module) -> faiss.Index:\n",
    "    \"\"\"\n",
    "    Build a FAISS index for cosine similarity search using movie embeddings.\n",
    "    \n",
    "    Returns:\n",
    "        faiss.Index: Index configured for cosine similarity (inner product on normalized vectors)\n",
    "    \"\"\"\n",
    "    dimension = model.movie_embedding.weight.shape[1]\n",
    "    \n",
    "    # Use IndexFlatIP (Inner Product) for cosine similarity\n",
    "    index = faiss.IndexFlatIP(dimension)\n",
    "    \n",
    "    # Get and normalize movie embeddings\n",
    "    movie_embeddings = model.movie_embedding.weight.detach().numpy().astype(np.float32)\n",
    "    faiss.normalize_L2(movie_embeddings)  # Normalize for cosine similarity\n",
    "    \n",
    "    index.add(movie_embeddings)\n",
    "    return index\n",
    "\n",
    "def get_similar_movies_cosine(\n",
    "    model: torch.nn.Module, \n",
    "    index: faiss.Index, \n",
    "    movie_idx: int, \n",
    "    df_movies: pd.DataFrame,\n",
    "    n: int = 10\n",
    ") -> pd.DataFrame:\n",
    "    \"\"\"\n",
    "    Find similar movies using cosine similarity.\n",
    "    \n",
    "    Args:\n",
    "        model: Trained collaborative filtering model\n",
    "        index: FAISS index built with build_cosine_similarity_index\n",
    "        movie_idx: Index of the query movie\n",
    "        df_movies: DataFrame containing movie information\n",
    "        n: Number of similar movies to return\n",
    "    \n",
    "    Returns:\n",
    "        DataFrame with similar movies and their cosine similarity scores\n",
    "    \"\"\"\n",
    "    # Get and normalize query movie embedding\n",
    "    query_embedding = model.movie_embedding.weight[movie_idx:movie_idx+1].detach().numpy().astype(np.float32)\n",
    "    faiss.normalize_L2(query_embedding)\n",
    "    \n",
    "    # Search for similar movies (returns similarity scores, not distances)\n",
    "    similarities, similar_movie_indices = index.search(query_embedding, n)\n",
    "    \n",
    "    # Create results DataFrame\n",
    "    results = _create_results_dataframe(\n",
    "        similar_movie_indices[0], \n",
    "        similarities[0], \n",
    "        df_movies, \n",
    "        metric_name='cosine_similarity'\n",
    "    )\n",
    "    \n",
    "    return results\n",
    "\n",
    "def _create_results_dataframe(\n",
    "    movie_indices: np.ndarray, \n",
    "    scores: np.ndarray, \n",
    "    df_movies: pd.DataFrame,\n",
    "    metric_name: str = 'score'\n",
    ") -> pd.DataFrame:\n",
    "    \"\"\"Helper function to create results DataFrame\"\"\"\n",
    "    \n",
    "    # Create mapping from movie index to score\n",
    "    score_map = dict(zip(movie_indices, scores))\n",
    "    \n",
    "    # Filter movies and add scores\n",
    "    results = df_movies[df_movies.movieId.isin(movie_indices)].copy()\n",
    "    results[metric_name] = results['movieId'].map(score_map)\n",
    "    \n",
    "    # Sort by score (descending for similarity, ascending for distance)\n",
    "    ascending = metric_name.endswith('distance')\n",
    "    results = results.sort_values(metric_name, ascending=ascending)\n",
    "    \n",
    "    return results\n",
    "\n"
   ]
  },
  {
   "cell_type": "code",
   "execution_count": 281,
   "id": "c11eaaac",
   "metadata": {},
   "outputs": [
    {
     "name": "stdout",
     "output_type": "stream",
     "text": [
      "      movieId                                   title  \\\n",
      "989      1290           Some Kind of Wonderful (1987)   \n",
      "3945     5553                         Stakeout (1987)   \n",
      "3747     5220                         Showtime (2002)   \n",
      "197       231  Dumb & Dumber (Dumb and Dumber) (1994)   \n",
      "4343     6344    101 Reykjavik (101 Reykjavík) (2000)   \n",
      "1809     2409                         Rocky II (1979)   \n",
      "\n",
      "                             genres  movie_id_index  cosine_similarity  \n",
      "989                   Drama|Romance           988.0           1.000000  \n",
      "3945  Comedy|Crime|Romance|Thriller          3940.0           0.943884  \n",
      "3747                  Action|Comedy          3742.0           0.884455  \n",
      "197                Adventure|Comedy           197.0           0.871591  \n",
      "4343           Comedy|Drama|Romance          4337.0           0.853902  \n",
      "1809                   Action|Drama          1808.0           0.818806  \n"
     ]
    }
   ],
   "source": [
    "# Usage\n",
    "index = build_cosine_similarity_index(model)\n",
    "similar_movies = get_similar_movies_cosine(model, index, movie_idx=1290, df_movies=df_movies, n=10)\n",
    "print(similar_movies)"
   ]
  },
  {
   "cell_type": "code",
   "execution_count": null,
   "id": "c42432c6",
   "metadata": {},
   "outputs": [],
   "source": []
  }
 ],
 "metadata": {
  "kernelspec": {
   "display_name": "rcsys",
   "language": "python",
   "name": "rcsys"
  },
  "language_info": {
   "codemirror_mode": {
    "name": "ipython",
    "version": 3
   },
   "file_extension": ".py",
   "mimetype": "text/x-python",
   "name": "python",
   "nbconvert_exporter": "python",
   "pygments_lexer": "ipython3",
   "version": "3.13.2"
  }
 },
 "nbformat": 4,
 "nbformat_minor": 5
}
